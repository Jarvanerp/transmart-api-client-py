{
 "cells": [
  {
   "cell_type": "code",
   "execution_count": 4,
   "metadata": {
    "collapsed": false,
    "deletable": true,
    "editable": true
   },
   "outputs": [
    {
     "name": "stdout",
     "output_type": "stream",
     "text": [
      "Username:admin\n",
      "Password:········\n"
     ]
    },
    {
     "data": {
      "text/plain": [
       "'SUCCESS'"
      ]
     },
     "execution_count": 4,
     "metadata": {},
     "output_type": "execute_result"
    }
   ],
   "source": [
    "import getpass\n",
    "from transmart_api import TransmartApi\n",
    "\n",
    "api = TransmartApi(\n",
    "    host = 'http://transmart-test.thehyve.net',\n",
    "    user = input('Username:'),\n",
    "    password = getpass.getpass('Password:'),\n",
    "    apiversion = 2)\n",
    "\n",
    "api.access()"
   ]
  },
  {
   "cell_type": "code",
   "execution_count": 5,
   "metadata": {
    "collapsed": true,
    "deletable": true,
    "editable": true
   },
   "outputs": [],
   "source": [
    "import pandas\n",
    "\n",
    "pandas.set_option('max_colwidth', 1000)\n",
    "pandas.set_option(\"display.max_rows\",100)"
   ]
  },
  {
   "cell_type": "code",
   "execution_count": 22,
   "metadata": {
    "collapsed": false,
    "deletable": true,
    "editable": true
   },
   "outputs": [
    {
     "name": "stdout",
     "output_type": "stream",
     "text": [
      "http://transmart-test.thehyve.net/v2/observations?constraint={\"type\":\"study_name\",\"studyId\":\"EHR\"}&type=clinical\n"
     ]
    }
   ],
   "source": [
    "from pandas.io.json import json_normalize\n",
    "\n",
    "study_id = 'EHR'\n",
    "obs = api.get_observations(study = study_id)"
   ]
  },
  {
   "cell_type": "code",
   "execution_count": 7,
   "metadata": {
    "collapsed": false,
    "deletable": true,
    "editable": true
   },
   "outputs": [
    {
     "data": {
      "text/html": [
       "<div>\n",
       "<table border=\"1\" class=\"dataframe\">\n",
       "  <thead>\n",
       "    <tr style=\"text-align: right;\">\n",
       "      <th></th>\n",
       "      <th>dimensionIndexes</th>\n",
       "      <th>inlineDimensions</th>\n",
       "      <th>numericValue</th>\n",
       "    </tr>\n",
       "  </thead>\n",
       "  <tbody>\n",
       "    <tr>\n",
       "      <th>0</th>\n",
       "      <td>[0, 0, None, 0]</td>\n",
       "      <td>[None, None]</td>\n",
       "      <td>30.0</td>\n",
       "    </tr>\n",
       "    <tr>\n",
       "      <th>1</th>\n",
       "      <td>[1, 0, None, 0]</td>\n",
       "      <td>[None, None]</td>\n",
       "      <td>52.0</td>\n",
       "    </tr>\n",
       "    <tr>\n",
       "      <th>2</th>\n",
       "      <td>[2, 1, 0, 0]</td>\n",
       "      <td>[None, None]</td>\n",
       "      <td>77.0</td>\n",
       "    </tr>\n",
       "    <tr>\n",
       "      <th>3</th>\n",
       "      <td>[2, 1, 1, 0]</td>\n",
       "      <td>[None, None]</td>\n",
       "      <td>86.0</td>\n",
       "    </tr>\n",
       "    <tr>\n",
       "      <th>4</th>\n",
       "      <td>[2, 0, None, 0]</td>\n",
       "      <td>[None, None]</td>\n",
       "      <td>35.0</td>\n",
       "    </tr>\n",
       "    <tr>\n",
       "      <th>5</th>\n",
       "      <td>[2, 1, 2, 0]</td>\n",
       "      <td>[2015-12-31T23:00:01Z, 2015-12-30T22:55:00Z]</td>\n",
       "      <td>75.0</td>\n",
       "    </tr>\n",
       "    <tr>\n",
       "      <th>6</th>\n",
       "      <td>[0, 1, 3, 0]</td>\n",
       "      <td>[2016-03-29T08:01:00Z, 2016-03-29T08:00:00Z]</td>\n",
       "      <td>60.0</td>\n",
       "    </tr>\n",
       "    <tr>\n",
       "      <th>7</th>\n",
       "      <td>[0, 1, 3, 0]</td>\n",
       "      <td>[2016-03-29T08:11:00Z, 2016-03-29T08:10:00Z]</td>\n",
       "      <td>59.0</td>\n",
       "    </tr>\n",
       "    <tr>\n",
       "      <th>8</th>\n",
       "      <td>[0, 1, 4, 0]</td>\n",
       "      <td>[None, 2016-03-29T22:00:00Z]</td>\n",
       "      <td>80.0</td>\n",
       "    </tr>\n",
       "    <tr>\n",
       "      <th>9</th>\n",
       "      <td>[1, 1, 5, 0]</td>\n",
       "      <td>[2016-04-01T22:00:00Z, 2016-03-31T22:00:00Z]</td>\n",
       "      <td>78.0</td>\n",
       "    </tr>\n",
       "    <tr>\n",
       "      <th>10</th>\n",
       "      <td>[1, 1, 5, 0]</td>\n",
       "      <td>[None, 2016-04-02T22:00:00Z]</td>\n",
       "      <td>56.0</td>\n",
       "    </tr>\n",
       "    <tr>\n",
       "      <th>11</th>\n",
       "      <td>[1, 1, 6, 0]</td>\n",
       "      <td>[None, 2016-05-05T09:11:11Z]</td>\n",
       "      <td>102.0</td>\n",
       "    </tr>\n",
       "  </tbody>\n",
       "</table>\n",
       "</div>"
      ],
      "text/plain": [
       "   dimensionIndexes                              inlineDimensions  \\\n",
       "0   [0, 0, None, 0]                                  [None, None]   \n",
       "1   [1, 0, None, 0]                                  [None, None]   \n",
       "2      [2, 1, 0, 0]                                  [None, None]   \n",
       "3      [2, 1, 1, 0]                                  [None, None]   \n",
       "4   [2, 0, None, 0]                                  [None, None]   \n",
       "5      [2, 1, 2, 0]  [2015-12-31T23:00:01Z, 2015-12-30T22:55:00Z]   \n",
       "6      [0, 1, 3, 0]  [2016-03-29T08:01:00Z, 2016-03-29T08:00:00Z]   \n",
       "7      [0, 1, 3, 0]  [2016-03-29T08:11:00Z, 2016-03-29T08:10:00Z]   \n",
       "8      [0, 1, 4, 0]                  [None, 2016-03-29T22:00:00Z]   \n",
       "9      [1, 1, 5, 0]  [2016-04-01T22:00:00Z, 2016-03-31T22:00:00Z]   \n",
       "10     [1, 1, 5, 0]                  [None, 2016-04-02T22:00:00Z]   \n",
       "11     [1, 1, 6, 0]                  [None, 2016-05-05T09:11:11Z]   \n",
       "\n",
       "    numericValue  \n",
       "0           30.0  \n",
       "1           52.0  \n",
       "2           77.0  \n",
       "3           86.0  \n",
       "4           35.0  \n",
       "5           75.0  \n",
       "6           60.0  \n",
       "7           59.0  \n",
       "8           80.0  \n",
       "9           78.0  \n",
       "10          56.0  \n",
       "11         102.0  "
      ]
     },
     "execution_count": 7,
     "metadata": {},
     "output_type": "execute_result"
    }
   ],
   "source": [
    "json_normalize(obs['cells'])"
   ]
  },
  {
   "cell_type": "code",
   "execution_count": 8,
   "metadata": {
    "collapsed": false,
    "deletable": true,
    "editable": true
   },
   "outputs": [
    {
     "data": {
      "text/html": [
       "<div>\n",
       "<table border=\"1\" class=\"dataframe\">\n",
       "  <thead>\n",
       "    <tr style=\"text-align: right;\">\n",
       "      <th></th>\n",
       "      <th>fields</th>\n",
       "      <th>inline</th>\n",
       "      <th>name</th>\n",
       "      <th>type</th>\n",
       "    </tr>\n",
       "  </thead>\n",
       "  <tbody>\n",
       "    <tr>\n",
       "      <th>0</th>\n",
       "      <td>NaN</td>\n",
       "      <td>True</td>\n",
       "      <td>end time</td>\n",
       "      <td>Timestamp</td>\n",
       "    </tr>\n",
       "    <tr>\n",
       "      <th>1</th>\n",
       "      <td>[{'name': 'id', 'type': 'Int'}, {'name': 'trial', 'type': 'String'}, {'name': 'inTrialId', 'type': 'String'}, {'name': 'birthDate', 'type': 'Timestamp'}, {'name': 'deathDate', 'type': 'Timestamp'}, {'name': 'age', 'type': 'Int'}, {'name': 'race', 'type': 'String'}, {'name': 'maritalStatus', 'type': 'String'}, {'name': 'religion', 'type': 'String'}, {'name': 'sexCd', 'type': 'String'}, {'name': 'sex', 'type': 'String'}]</td>\n",
       "      <td>NaN</td>\n",
       "      <td>patient</td>\n",
       "      <td>Object</td>\n",
       "    </tr>\n",
       "    <tr>\n",
       "      <th>2</th>\n",
       "      <td>NaN</td>\n",
       "      <td>True</td>\n",
       "      <td>start time</td>\n",
       "      <td>Timestamp</td>\n",
       "    </tr>\n",
       "    <tr>\n",
       "      <th>3</th>\n",
       "      <td>[{'name': 'conceptPath', 'type': 'String'}, {'name': 'conceptCode', 'type': 'String'}]</td>\n",
       "      <td>NaN</td>\n",
       "      <td>concept</td>\n",
       "      <td>Object</td>\n",
       "    </tr>\n",
       "    <tr>\n",
       "      <th>4</th>\n",
       "      <td>[{'name': 'patientInTrialId', 'type': 'String'}, {'name': 'encounterNum', 'type': 'Double'}, {'name': 'activeStatusCd', 'type': 'String'}, {'name': 'startDate', 'type': 'Timestamp'}, {'name': 'endDate', 'type': 'Timestamp'}, {'name': 'inoutCd', 'type': 'String'}, {'name': 'locationCd', 'type': 'String'}]</td>\n",
       "      <td>NaN</td>\n",
       "      <td>visit</td>\n",
       "      <td>Object</td>\n",
       "    </tr>\n",
       "    <tr>\n",
       "      <th>5</th>\n",
       "      <td>[{'name': 'name', 'type': 'String'}]</td>\n",
       "      <td>NaN</td>\n",
       "      <td>study</td>\n",
       "      <td>Object</td>\n",
       "    </tr>\n",
       "  </tbody>\n",
       "</table>\n",
       "</div>"
      ],
      "text/plain": [
       "                                                                                                                                                                                                                                                                                                                                                                                                                                   fields  \\\n",
       "0                                                                                                                                                                                                                                                                                                                                                                                                                                     NaN   \n",
       "1  [{'name': 'id', 'type': 'Int'}, {'name': 'trial', 'type': 'String'}, {'name': 'inTrialId', 'type': 'String'}, {'name': 'birthDate', 'type': 'Timestamp'}, {'name': 'deathDate', 'type': 'Timestamp'}, {'name': 'age', 'type': 'Int'}, {'name': 'race', 'type': 'String'}, {'name': 'maritalStatus', 'type': 'String'}, {'name': 'religion', 'type': 'String'}, {'name': 'sexCd', 'type': 'String'}, {'name': 'sex', 'type': 'String'}]   \n",
       "2                                                                                                                                                                                                                                                                                                                                                                                                                                     NaN   \n",
       "3                                                                                                                                                                                                                                                                                                                                                  [{'name': 'conceptPath', 'type': 'String'}, {'name': 'conceptCode', 'type': 'String'}]   \n",
       "4                                                                                                                       [{'name': 'patientInTrialId', 'type': 'String'}, {'name': 'encounterNum', 'type': 'Double'}, {'name': 'activeStatusCd', 'type': 'String'}, {'name': 'startDate', 'type': 'Timestamp'}, {'name': 'endDate', 'type': 'Timestamp'}, {'name': 'inoutCd', 'type': 'String'}, {'name': 'locationCd', 'type': 'String'}]   \n",
       "5                                                                                                                                                                                                                                                                                                                                                                                                    [{'name': 'name', 'type': 'String'}]   \n",
       "\n",
       "  inline        name       type  \n",
       "0   True    end time  Timestamp  \n",
       "1    NaN     patient     Object  \n",
       "2   True  start time  Timestamp  \n",
       "3    NaN     concept     Object  \n",
       "4    NaN       visit     Object  \n",
       "5    NaN       study     Object  "
      ]
     },
     "execution_count": 8,
     "metadata": {},
     "output_type": "execute_result"
    }
   ],
   "source": [
    "json_normalize(obs['dimensionDeclarations'])"
   ]
  },
  {
   "cell_type": "code",
   "execution_count": 14,
   "metadata": {
    "collapsed": false,
    "deletable": true,
    "editable": true
   },
   "outputs": [
    {
     "data": {
      "text/html": [
       "<div>\n",
       "<table border=\"1\" class=\"dataframe\">\n",
       "  <thead>\n",
       "    <tr style=\"text-align: right;\">\n",
       "      <th></th>\n",
       "      <th>concept</th>\n",
       "      <th>patient</th>\n",
       "      <th>study</th>\n",
       "      <th>visit</th>\n",
       "    </tr>\n",
       "  </thead>\n",
       "  <tbody>\n",
       "    <tr>\n",
       "      <th>0</th>\n",
       "      <td>[{'conceptCode': 'EHR:DEM:AGE', 'conceptPath': '\\Public Studies\\EHR\\Demography\\Age\\'}, {'conceptCode': 'EHR:VSIGN:HR', 'conceptPath': '\\Public Studies\\EHR\\Vital Signs\\Heart Rate\\'}]</td>\n",
       "      <td>[{'religion': None, 'inTrialId': '1', 'birthDate': None, 'id': -62, 'deathDate': None, 'sexCd': 'Male', 'race': 'Caucasian', 'age': 30, 'maritalStatus': None, 'trial': 'EHR', 'sex': 'male'}, {'religion': None, 'inTrialId': '3', 'birthDate': None, 'id': -42, 'deathDate': None, 'sexCd': 'Female', 'race': 'Caucasian', 'age': 52, 'maritalStatus': None, 'trial': 'EHR', 'sex': 'female'}, {'religion': None, 'inTrialId': '2', 'birthDate': None, 'id': -52, 'deathDate': None, 'sexCd': 'Male', 'race': 'Latino', 'age': 35, 'maritalStatus': None, 'trial': 'EHR', 'sex': 'male'}]</td>\n",
       "      <td>[{'name': 'EHR'}]</td>\n",
       "      <td>[{'encounterNum': -71, 'activeStatusCd': None, 'patientInTrialId': '1', 'startDate': '2016-03-29T07:00:00Z', 'endDate': '2016-03-29T09:00:00Z', 'locationCd': None, 'inoutCd': None}, {'encounterNum': -72, 'activeStatusCd': None, 'patientInTrialId': '1', 'startDate': '2016-03-29T22:00:00Z', 'endDate': None, 'locationCd': None, 'inoutCd': None}, {'encounterNum': -81, 'activeStatusCd': None, 'patientInTrialId': '2', 'startDate': None, 'endDate': None, 'locationCd': None, 'inoutCd': None}, {'encounterNum': -82, 'activeStatusCd': None, 'patientInTrialId': '2', 'startDate': '2016-05-24T22:00:00Z', 'endDate': '2016-05-27T22:00:00Z', 'locationCd': None, 'inoutCd': None}, {'encounterNum': -83, 'activeStatusCd': None, 'patientInTrialId': '2', 'startDate': '2015-12-29T23:00:00Z', 'endDate': '2015-12-31T23:00:00Z', 'locationCd': None, 'inoutCd': None}, {'encounterNum': -91, 'activeStatusCd': None, 'patientInTrialId': '3', 'startDate': '2016-03-29T22:00:00Z', 'endDate': '2016-04-03T22:00:00Z', '...</td>\n",
       "    </tr>\n",
       "  </tbody>\n",
       "</table>\n",
       "</div>"
      ],
      "text/plain": [
       "                                                                                                                                                                                 concept  \\\n",
       "0  [{'conceptCode': 'EHR:DEM:AGE', 'conceptPath': '\\Public Studies\\EHR\\Demography\\Age\\'}, {'conceptCode': 'EHR:VSIGN:HR', 'conceptPath': '\\Public Studies\\EHR\\Vital Signs\\Heart Rate\\'}]   \n",
       "\n",
       "                                                                                                                                                                                                                                                                                                                                                                                                                                                                                                                                                                                       patient  \\\n",
       "0  [{'religion': None, 'inTrialId': '1', 'birthDate': None, 'id': -62, 'deathDate': None, 'sexCd': 'Male', 'race': 'Caucasian', 'age': 30, 'maritalStatus': None, 'trial': 'EHR', 'sex': 'male'}, {'religion': None, 'inTrialId': '3', 'birthDate': None, 'id': -42, 'deathDate': None, 'sexCd': 'Female', 'race': 'Caucasian', 'age': 52, 'maritalStatus': None, 'trial': 'EHR', 'sex': 'female'}, {'religion': None, 'inTrialId': '2', 'birthDate': None, 'id': -52, 'deathDate': None, 'sexCd': 'Male', 'race': 'Latino', 'age': 35, 'maritalStatus': None, 'trial': 'EHR', 'sex': 'male'}]   \n",
       "\n",
       "               study  \\\n",
       "0  [{'name': 'EHR'}]   \n",
       "\n",
       "                                                                                                                                                                                                                                                                                                                                                                                                                                                                                                                                                                                                                                                                                                                                                                                                                                                                                                                                                                                                                                     visit  \n",
       "0  [{'encounterNum': -71, 'activeStatusCd': None, 'patientInTrialId': '1', 'startDate': '2016-03-29T07:00:00Z', 'endDate': '2016-03-29T09:00:00Z', 'locationCd': None, 'inoutCd': None}, {'encounterNum': -72, 'activeStatusCd': None, 'patientInTrialId': '1', 'startDate': '2016-03-29T22:00:00Z', 'endDate': None, 'locationCd': None, 'inoutCd': None}, {'encounterNum': -81, 'activeStatusCd': None, 'patientInTrialId': '2', 'startDate': None, 'endDate': None, 'locationCd': None, 'inoutCd': None}, {'encounterNum': -82, 'activeStatusCd': None, 'patientInTrialId': '2', 'startDate': '2016-05-24T22:00:00Z', 'endDate': '2016-05-27T22:00:00Z', 'locationCd': None, 'inoutCd': None}, {'encounterNum': -83, 'activeStatusCd': None, 'patientInTrialId': '2', 'startDate': '2015-12-29T23:00:00Z', 'endDate': '2015-12-31T23:00:00Z', 'locationCd': None, 'inoutCd': None}, {'encounterNum': -91, 'activeStatusCd': None, 'patientInTrialId': '3', 'startDate': '2016-03-29T22:00:00Z', 'endDate': '2016-04-03T22:00:00Z', '...  "
      ]
     },
     "execution_count": 14,
     "metadata": {},
     "output_type": "execute_result"
    }
   ],
   "source": [
    "json_normalize(obs['dimensionElements'])"
   ]
  },
  {
   "cell_type": "code",
   "execution_count": 15,
   "metadata": {
    "collapsed": false,
    "deletable": true,
    "editable": true
   },
   "outputs": [
    {
     "data": {
      "text/html": [
       "<div>\n",
       "<table border=\"1\" class=\"dataframe\">\n",
       "  <thead>\n",
       "    <tr style=\"text-align: right;\">\n",
       "      <th></th>\n",
       "      <th>conceptCode</th>\n",
       "      <th>conceptPath</th>\n",
       "    </tr>\n",
       "  </thead>\n",
       "  <tbody>\n",
       "    <tr>\n",
       "      <th>0</th>\n",
       "      <td>EHR:DEM:AGE</td>\n",
       "      <td>\\Public Studies\\EHR\\Demography\\Age\\</td>\n",
       "    </tr>\n",
       "    <tr>\n",
       "      <th>1</th>\n",
       "      <td>EHR:VSIGN:HR</td>\n",
       "      <td>\\Public Studies\\EHR\\Vital Signs\\Heart Rate\\</td>\n",
       "    </tr>\n",
       "  </tbody>\n",
       "</table>\n",
       "</div>"
      ],
      "text/plain": [
       "    conceptCode                                  conceptPath\n",
       "0   EHR:DEM:AGE          \\Public Studies\\EHR\\Demography\\Age\\\n",
       "1  EHR:VSIGN:HR  \\Public Studies\\EHR\\Vital Signs\\Heart Rate\\"
      ]
     },
     "execution_count": 15,
     "metadata": {},
     "output_type": "execute_result"
    }
   ],
   "source": [
    "json_normalize(obs['dimensionElements']['concept'])"
   ]
  },
  {
   "cell_type": "code",
   "execution_count": 16,
   "metadata": {
    "collapsed": false,
    "deletable": true,
    "editable": true
   },
   "outputs": [
    {
     "data": {
      "text/html": [
       "<div>\n",
       "<table border=\"1\" class=\"dataframe\">\n",
       "  <thead>\n",
       "    <tr style=\"text-align: right;\">\n",
       "      <th></th>\n",
       "      <th>age</th>\n",
       "      <th>birthDate</th>\n",
       "      <th>deathDate</th>\n",
       "      <th>id</th>\n",
       "      <th>inTrialId</th>\n",
       "      <th>maritalStatus</th>\n",
       "      <th>race</th>\n",
       "      <th>religion</th>\n",
       "      <th>sex</th>\n",
       "      <th>sexCd</th>\n",
       "      <th>trial</th>\n",
       "    </tr>\n",
       "  </thead>\n",
       "  <tbody>\n",
       "    <tr>\n",
       "      <th>0</th>\n",
       "      <td>30</td>\n",
       "      <td>None</td>\n",
       "      <td>None</td>\n",
       "      <td>-62</td>\n",
       "      <td>1</td>\n",
       "      <td>None</td>\n",
       "      <td>Caucasian</td>\n",
       "      <td>None</td>\n",
       "      <td>male</td>\n",
       "      <td>Male</td>\n",
       "      <td>EHR</td>\n",
       "    </tr>\n",
       "    <tr>\n",
       "      <th>1</th>\n",
       "      <td>52</td>\n",
       "      <td>None</td>\n",
       "      <td>None</td>\n",
       "      <td>-42</td>\n",
       "      <td>3</td>\n",
       "      <td>None</td>\n",
       "      <td>Caucasian</td>\n",
       "      <td>None</td>\n",
       "      <td>female</td>\n",
       "      <td>Female</td>\n",
       "      <td>EHR</td>\n",
       "    </tr>\n",
       "    <tr>\n",
       "      <th>2</th>\n",
       "      <td>35</td>\n",
       "      <td>None</td>\n",
       "      <td>None</td>\n",
       "      <td>-52</td>\n",
       "      <td>2</td>\n",
       "      <td>None</td>\n",
       "      <td>Latino</td>\n",
       "      <td>None</td>\n",
       "      <td>male</td>\n",
       "      <td>Male</td>\n",
       "      <td>EHR</td>\n",
       "    </tr>\n",
       "  </tbody>\n",
       "</table>\n",
       "</div>"
      ],
      "text/plain": [
       "   age birthDate deathDate  id inTrialId maritalStatus       race religion  \\\n",
       "0   30      None      None -62         1          None  Caucasian     None   \n",
       "1   52      None      None -42         3          None  Caucasian     None   \n",
       "2   35      None      None -52         2          None     Latino     None   \n",
       "\n",
       "      sex   sexCd trial  \n",
       "0    male    Male   EHR  \n",
       "1  female  Female   EHR  \n",
       "2    male    Male   EHR  "
      ]
     },
     "execution_count": 16,
     "metadata": {},
     "output_type": "execute_result"
    }
   ],
   "source": [
    "json_normalize(obs['dimensionElements']['patient'])"
   ]
  },
  {
   "cell_type": "code",
   "execution_count": 17,
   "metadata": {
    "collapsed": false,
    "deletable": true,
    "editable": true
   },
   "outputs": [
    {
     "data": {
      "text/html": [
       "<div>\n",
       "<table border=\"1\" class=\"dataframe\">\n",
       "  <thead>\n",
       "    <tr style=\"text-align: right;\">\n",
       "      <th></th>\n",
       "      <th>name</th>\n",
       "    </tr>\n",
       "  </thead>\n",
       "  <tbody>\n",
       "    <tr>\n",
       "      <th>0</th>\n",
       "      <td>EHR</td>\n",
       "    </tr>\n",
       "  </tbody>\n",
       "</table>\n",
       "</div>"
      ],
      "text/plain": [
       "  name\n",
       "0  EHR"
      ]
     },
     "execution_count": 17,
     "metadata": {},
     "output_type": "execute_result"
    }
   ],
   "source": [
    "json_normalize(obs['dimensionElements']['study'])"
   ]
  },
  {
   "cell_type": "code",
   "execution_count": 19,
   "metadata": {
    "collapsed": false,
    "deletable": true,
    "editable": true
   },
   "outputs": [
    {
     "ename": "KeyError",
     "evalue": "'trial visit'",
     "output_type": "error",
     "traceback": [
      "\u001b[0;31m---------------------------------------------------------------------------\u001b[0m",
      "\u001b[0;31mKeyError\u001b[0m                                  Traceback (most recent call last)",
      "\u001b[0;32m<ipython-input-19-d6ec9e44cf8e>\u001b[0m in \u001b[0;36m<module>\u001b[0;34m()\u001b[0m\n\u001b[0;32m----> 1\u001b[0;31m \u001b[0mjson_normalize\u001b[0m\u001b[0;34m(\u001b[0m\u001b[0mobs\u001b[0m\u001b[0;34m[\u001b[0m\u001b[0;34m'dimensionElements'\u001b[0m\u001b[0;34m]\u001b[0m\u001b[0;34m[\u001b[0m\u001b[0;34m'trial visit'\u001b[0m\u001b[0;34m]\u001b[0m\u001b[0;34m)\u001b[0m\u001b[0;34m\u001b[0m\u001b[0m\n\u001b[0m",
      "\u001b[0;31mKeyError\u001b[0m: 'trial visit'"
     ]
    }
   ],
   "source": [
    "json_normalize(obs['dimensionElements']['trial visit'])"
   ]
  },
  {
   "cell_type": "code",
   "execution_count": 20,
   "metadata": {
    "collapsed": false
   },
   "outputs": [
    {
     "data": {
      "text/html": [
       "<div>\n",
       "<table border=\"1\" class=\"dataframe\">\n",
       "  <thead>\n",
       "    <tr style=\"text-align: right;\">\n",
       "      <th></th>\n",
       "      <th>activeStatusCd</th>\n",
       "      <th>encounterNum</th>\n",
       "      <th>endDate</th>\n",
       "      <th>inoutCd</th>\n",
       "      <th>locationCd</th>\n",
       "      <th>patientInTrialId</th>\n",
       "      <th>startDate</th>\n",
       "    </tr>\n",
       "  </thead>\n",
       "  <tbody>\n",
       "    <tr>\n",
       "      <th>0</th>\n",
       "      <td>None</td>\n",
       "      <td>-71</td>\n",
       "      <td>2016-03-29T09:00:00Z</td>\n",
       "      <td>None</td>\n",
       "      <td>None</td>\n",
       "      <td>1</td>\n",
       "      <td>2016-03-29T07:00:00Z</td>\n",
       "    </tr>\n",
       "    <tr>\n",
       "      <th>1</th>\n",
       "      <td>None</td>\n",
       "      <td>-72</td>\n",
       "      <td>None</td>\n",
       "      <td>None</td>\n",
       "      <td>None</td>\n",
       "      <td>1</td>\n",
       "      <td>2016-03-29T22:00:00Z</td>\n",
       "    </tr>\n",
       "    <tr>\n",
       "      <th>2</th>\n",
       "      <td>None</td>\n",
       "      <td>-81</td>\n",
       "      <td>None</td>\n",
       "      <td>None</td>\n",
       "      <td>None</td>\n",
       "      <td>2</td>\n",
       "      <td>None</td>\n",
       "    </tr>\n",
       "    <tr>\n",
       "      <th>3</th>\n",
       "      <td>None</td>\n",
       "      <td>-82</td>\n",
       "      <td>2016-05-27T22:00:00Z</td>\n",
       "      <td>None</td>\n",
       "      <td>None</td>\n",
       "      <td>2</td>\n",
       "      <td>2016-05-24T22:00:00Z</td>\n",
       "    </tr>\n",
       "    <tr>\n",
       "      <th>4</th>\n",
       "      <td>None</td>\n",
       "      <td>-83</td>\n",
       "      <td>2015-12-31T23:00:00Z</td>\n",
       "      <td>None</td>\n",
       "      <td>None</td>\n",
       "      <td>2</td>\n",
       "      <td>2015-12-29T23:00:00Z</td>\n",
       "    </tr>\n",
       "    <tr>\n",
       "      <th>5</th>\n",
       "      <td>None</td>\n",
       "      <td>-91</td>\n",
       "      <td>2016-04-03T22:00:00Z</td>\n",
       "      <td>None</td>\n",
       "      <td>None</td>\n",
       "      <td>3</td>\n",
       "      <td>2016-03-29T22:00:00Z</td>\n",
       "    </tr>\n",
       "    <tr>\n",
       "      <th>6</th>\n",
       "      <td>None</td>\n",
       "      <td>-92</td>\n",
       "      <td>2016-05-05T21:59:59Z</td>\n",
       "      <td>None</td>\n",
       "      <td>None</td>\n",
       "      <td>3</td>\n",
       "      <td>2016-05-04T22:00:00Z</td>\n",
       "    </tr>\n",
       "  </tbody>\n",
       "</table>\n",
       "</div>"
      ],
      "text/plain": [
       "  activeStatusCd  encounterNum               endDate inoutCd locationCd  \\\n",
       "0           None           -71  2016-03-29T09:00:00Z    None       None   \n",
       "1           None           -72                  None    None       None   \n",
       "2           None           -81                  None    None       None   \n",
       "3           None           -82  2016-05-27T22:00:00Z    None       None   \n",
       "4           None           -83  2015-12-31T23:00:00Z    None       None   \n",
       "5           None           -91  2016-04-03T22:00:00Z    None       None   \n",
       "6           None           -92  2016-05-05T21:59:59Z    None       None   \n",
       "\n",
       "  patientInTrialId             startDate  \n",
       "0                1  2016-03-29T07:00:00Z  \n",
       "1                1  2016-03-29T22:00:00Z  \n",
       "2                2                  None  \n",
       "3                2  2016-05-24T22:00:00Z  \n",
       "4                2  2015-12-29T23:00:00Z  \n",
       "5                3  2016-03-29T22:00:00Z  \n",
       "6                3  2016-05-04T22:00:00Z  "
      ]
     },
     "execution_count": 20,
     "metadata": {},
     "output_type": "execute_result"
    }
   ],
   "source": [
    "json_normalize(obs['dimensionElements']['visit'])"
   ]
  }
 ],
 "metadata": {
  "kernelspec": {
   "display_name": "Python 3",
   "language": "python",
   "name": "python3"
  },
  "language_info": {
   "codemirror_mode": {
    "name": "ipython",
    "version": 3
   },
   "file_extension": ".py",
   "mimetype": "text/x-python",
   "name": "python",
   "nbconvert_exporter": "python",
   "pygments_lexer": "ipython3",
   "version": "3.5.1"
  }
 },
 "nbformat": 4,
 "nbformat_minor": 2
}
