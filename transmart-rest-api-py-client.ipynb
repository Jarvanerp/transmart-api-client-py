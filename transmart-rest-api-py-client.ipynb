{
 "cells": [
  {
   "cell_type": "markdown",
   "metadata": {},
   "source": [
    "<img style=\"float: right;\" src=\"files/thehyve_logo.png\">\n",
    "# Examples of interaction with TranSMART RESTful API from Jupyter Notebook\n",
    "---------------\n",
    "Copyright (c) 2015 The Hyve B.V. This notebook is licensed under the GNU General Public License, version 3. Authors: Ruslan Forostianov."
   ]
  },
  {
   "cell_type": "markdown",
   "metadata": {},
   "source": [
    "## What is Jupyter Notebook"
   ]
  },
  {
   "cell_type": "markdown",
   "metadata": {},
   "source": [
    "The [Jupyter Notebook](https://jupyter.org/) is a web application that allows you to create and share documents that contain live code, equations, visualizations and explanatory text.\n",
    "The Notebook has support for over 40 programming languages, including those popular in Data Science such as **Ju**lia, **Pyt**hon, **R** and Scala."
   ]
  },
  {
   "cell_type": "markdown",
   "metadata": {},
   "source": [
    "## Simple TranSMART API Python Client"
   ]
  },
  {
   "cell_type": "markdown",
   "metadata": {},
   "source": [
    "See [transmart api client](/edit/transmart_api.py) python module."
   ]
  },
  {
   "cell_type": "markdown",
   "metadata": {},
   "source": [
    "### Authorize"
   ]
  },
  {
   "cell_type": "code",
   "execution_count": 2,
   "metadata": {
    "collapsed": false
   },
   "outputs": [
    {
     "name": "stdout",
     "output_type": "stream",
     "text": [
      "Username:admin\n",
      "Password:········\n"
     ]
    },
    {
     "data": {
      "text/plain": [
       "'SUCCESS'"
      ]
     },
     "execution_count": 2,
     "metadata": {},
     "output_type": "execute_result"
    }
   ],
   "source": [
    "import getpass\n",
    "from transmart_api import TransmartApi\n",
    "\n",
    "api = TransmartApi(\n",
    "    host = 'http://localhost:8080',\n",
    "    user = raw_input('Username:'),\n",
    "    password = getpass.getpass('Password:'))\n",
    "\n",
    "api.access()"
   ]
  },
  {
   "cell_type": "markdown",
   "metadata": {},
   "source": [
    "### Fetch some clinical data"
   ]
  },
  {
   "cell_type": "code",
   "execution_count": 3,
   "metadata": {
    "collapsed": false
   },
   "outputs": [
    {
     "data": {
      "text/plain": [
       "[{u'label': u'\\\\Public Studies\\\\GSE8581\\\\Biomarker Data\\\\GPL570\\\\',\n",
       "  u'subject': {u'age': 65,\n",
       "   u'birthDate': None,\n",
       "   u'deathDate': None,\n",
       "   u'id': 1000384597,\n",
       "   u'inTrialId': u'GSE8581GSM210006',\n",
       "   u'maritalStatus': None,\n",
       "   u'race': u'Afro American',\n",
       "   u'religion': None,\n",
       "   u'sex': u'FEMALE',\n",
       "   u'trial': u'GSE8581'},\n",
       "  u'value': None},\n",
       " {u'label': u'\\\\Public Studies\\\\GSE8581\\\\Endpoints\\\\Diagnosis\\\\',\n",
       "  u'subject': {u'age': 65,\n",
       "   u'birthDate': None,\n",
       "   u'deathDate': None,\n",
       "   u'id': 1000384597,\n",
       "   u'inTrialId': u'GSE8581GSM210006',\n",
       "   u'maritalStatus': None,\n",
       "   u'race': u'Afro American',\n",
       "   u'religion': None,\n",
       "   u'sex': u'FEMALE',\n",
       "   u'trial': u'GSE8581'},\n",
       "  u'value': u'non-small cell adenocarcinoma'},\n",
       " {u'label': u'\\\\Public Studies\\\\GSE8581\\\\Endpoints\\\\FEV1\\\\',\n",
       "  u'subject': {u'age': 65,\n",
       "   u'birthDate': None,\n",
       "   u'deathDate': None,\n",
       "   u'id': 1000384597,\n",
       "   u'inTrialId': u'GSE8581GSM210006',\n",
       "   u'maritalStatus': None,\n",
       "   u'race': u'Afro American',\n",
       "   u'religion': None,\n",
       "   u'sex': u'FEMALE',\n",
       "   u'trial': u'GSE8581'},\n",
       "  u'value': 1.41}]"
      ]
     },
     "execution_count": 3,
     "metadata": {},
     "output_type": "execute_result"
    }
   ],
   "source": [
    "obs = api.get_observations(study = 'GSE8581')\n",
    "obs[0:3]"
   ]
  },
  {
   "cell_type": "markdown",
   "metadata": {},
   "source": [
    "### Fetch some high dimensonal data"
   ]
  },
  {
   "cell_type": "markdown",
   "metadata": {},
   "source": [
    "The api returns data serialized with [Google Protocol Buffers](https://developers.google.com/protocol-buffers/). To deserialize binary stream it's important to have a protobuf definition file for the data structure. See [it](/edit/highdim.proto)."
   ]
  },
  {
   "cell_type": "code",
   "execution_count": 4,
   "metadata": {
    "collapsed": false,
    "scrolled": true
   },
   "outputs": [],
   "source": [
    "(hdHeader, hdRows) = api.get_hd_node_data(study = 'GSE8581',\n",
    "                                          node_name = 'Lung',\n",
    "                                          projection='default_real_projection',\n",
    "                                          genes = ['TP53', 'AURKA'])"
   ]
  },
  {
   "cell_type": "code",
   "execution_count": 5,
   "metadata": {
    "collapsed": false
   },
   "outputs": [
    {
     "data": {
      "text/plain": [
       "<highdim_pb2.HighDimHeader at 0x7f1260c28050>"
      ]
     },
     "execution_count": 5,
     "metadata": {},
     "output_type": "execute_result"
    }
   ],
   "source": [
    "hdHeader"
   ]
  },
  {
   "cell_type": "code",
   "execution_count": 6,
   "metadata": {
    "collapsed": false
   },
   "outputs": [
    {
     "data": {
      "text/plain": [
       "[<highdim_pb2.Row at 0x7f1260c32b90>,\n",
       " <highdim_pb2.Row at 0x7f1260c32c80>,\n",
       " <highdim_pb2.Row at 0x7f1260c32d70>,\n",
       " <highdim_pb2.Row at 0x7f1260c32e60>,\n",
       " <highdim_pb2.Row at 0x7f1260c32f50>]"
      ]
     },
     "execution_count": 6,
     "metadata": {},
     "output_type": "execute_result"
    }
   ],
   "source": [
    "hdRows[0:5]"
   ]
  },
  {
   "cell_type": "code",
   "execution_count": 7,
   "metadata": {
    "collapsed": false
   },
   "outputs": [
    {
     "data": {
      "text/plain": [
       "[(u'value', 1)]"
      ]
     },
     "execution_count": 7,
     "metadata": {},
     "output_type": "execute_result"
    }
   ],
   "source": [
    "#type:\n",
    "#1 - double\n",
    "#2 - string\n",
    "[(x.name, x.type) for x in hdHeader.columnSpec]"
   ]
  },
  {
   "cell_type": "code",
   "execution_count": 8,
   "metadata": {
    "collapsed": false
   },
   "outputs": [],
   "source": [
    "hdDataDic = {row.label: row.value[0].doubleValue for row in hdRows}"
   ]
  },
  {
   "cell_type": "markdown",
   "metadata": {},
   "source": [
    "## Pandas"
   ]
  },
  {
   "cell_type": "markdown",
   "metadata": {},
   "source": [
    "### Change the clinical data shape"
   ]
  },
  {
   "cell_type": "code",
   "execution_count": 9,
   "metadata": {
    "collapsed": false,
    "scrolled": true
   },
   "outputs": [
    {
     "data": {
      "text/html": [
       "<div>\n",
       "<table border=\"1\" class=\"dataframe\">\n",
       "  <thead>\n",
       "    <tr style=\"text-align: right;\">\n",
       "      <th></th>\n",
       "      <th>label</th>\n",
       "      <th>subject.age</th>\n",
       "      <th>subject.birthDate</th>\n",
       "      <th>subject.deathDate</th>\n",
       "      <th>subject.id</th>\n",
       "      <th>subject.inTrialId</th>\n",
       "      <th>subject.maritalStatus</th>\n",
       "      <th>subject.race</th>\n",
       "      <th>subject.religion</th>\n",
       "      <th>subject.sex</th>\n",
       "      <th>subject.trial</th>\n",
       "      <th>value</th>\n",
       "    </tr>\n",
       "  </thead>\n",
       "  <tbody>\n",
       "    <tr>\n",
       "      <th>0</th>\n",
       "      <td>\\Public Studies\\GSE8581\\Biomarker Data\\GPL570\\</td>\n",
       "      <td>65</td>\n",
       "      <td>None</td>\n",
       "      <td>None</td>\n",
       "      <td>1000384597</td>\n",
       "      <td>GSE8581GSM210006</td>\n",
       "      <td>None</td>\n",
       "      <td>Afro American</td>\n",
       "      <td>None</td>\n",
       "      <td>FEMALE</td>\n",
       "      <td>GSE8581</td>\n",
       "      <td>None</td>\n",
       "    </tr>\n",
       "    <tr>\n",
       "      <th>1</th>\n",
       "      <td>\\Public Studies\\GSE8581\\Endpoints\\Diagnosis\\</td>\n",
       "      <td>65</td>\n",
       "      <td>None</td>\n",
       "      <td>None</td>\n",
       "      <td>1000384597</td>\n",
       "      <td>GSE8581GSM210006</td>\n",
       "      <td>None</td>\n",
       "      <td>Afro American</td>\n",
       "      <td>None</td>\n",
       "      <td>FEMALE</td>\n",
       "      <td>GSE8581</td>\n",
       "      <td>non-small cell adenocarcinoma</td>\n",
       "    </tr>\n",
       "    <tr>\n",
       "      <th>2</th>\n",
       "      <td>\\Public Studies\\GSE8581\\Endpoints\\FEV1\\</td>\n",
       "      <td>65</td>\n",
       "      <td>None</td>\n",
       "      <td>None</td>\n",
       "      <td>1000384597</td>\n",
       "      <td>GSE8581GSM210006</td>\n",
       "      <td>None</td>\n",
       "      <td>Afro American</td>\n",
       "      <td>None</td>\n",
       "      <td>FEMALE</td>\n",
       "      <td>GSE8581</td>\n",
       "      <td>1.41</td>\n",
       "    </tr>\n",
       "  </tbody>\n",
       "</table>\n",
       "</div>"
      ],
      "text/plain": [
       "                                            label  subject.age  \\\n",
       "0  \\Public Studies\\GSE8581\\Biomarker Data\\GPL570\\           65   \n",
       "1    \\Public Studies\\GSE8581\\Endpoints\\Diagnosis\\           65   \n",
       "2         \\Public Studies\\GSE8581\\Endpoints\\FEV1\\           65   \n",
       "\n",
       "  subject.birthDate subject.deathDate  subject.id subject.inTrialId  \\\n",
       "0              None              None  1000384597  GSE8581GSM210006   \n",
       "1              None              None  1000384597  GSE8581GSM210006   \n",
       "2              None              None  1000384597  GSE8581GSM210006   \n",
       "\n",
       "  subject.maritalStatus   subject.race subject.religion subject.sex  \\\n",
       "0                  None  Afro American             None      FEMALE   \n",
       "1                  None  Afro American             None      FEMALE   \n",
       "2                  None  Afro American             None      FEMALE   \n",
       "\n",
       "  subject.trial                          value  \n",
       "0       GSE8581                           None  \n",
       "1       GSE8581  non-small cell adenocarcinoma  \n",
       "2       GSE8581                           1.41  "
      ]
     },
     "execution_count": 9,
     "metadata": {},
     "output_type": "execute_result"
    }
   ],
   "source": [
    "import pandas\n",
    "from pandas.io.json import json_normalize\n",
    "obs_df1 = json_normalize(obs)\n",
    "obs_df1[0:3]"
   ]
  },
  {
   "cell_type": "code",
   "execution_count": 10,
   "metadata": {
    "collapsed": false
   },
   "outputs": [
    {
     "data": {
      "text/html": [
       "<div>\n",
       "<table border=\"1\" class=\"dataframe\">\n",
       "  <thead>\n",
       "    <tr style=\"text-align: right;\">\n",
       "      <th>label</th>\n",
       "      <th>\\Public Studies\\GSE8581\\Biomarker Data\\GPL570\\</th>\n",
       "      <th>\\Public Studies\\GSE8581\\Endpoints\\Diagnosis\\</th>\n",
       "      <th>\\Public Studies\\GSE8581\\Endpoints\\FEV1\\</th>\n",
       "      <th>\\Public Studies\\GSE8581\\Endpoints\\Forced Expiratory Volume Ratio\\</th>\n",
       "      <th>\\Public Studies\\GSE8581\\Subjects\\Age\\</th>\n",
       "      <th>\\Public Studies\\GSE8581\\Subjects\\Height (inch)\\</th>\n",
       "      <th>\\Public Studies\\GSE8581\\Subjects\\Lung Disease\\</th>\n",
       "      <th>\\Public Studies\\GSE8581\\Subjects\\Organism\\</th>\n",
       "      <th>\\Public Studies\\GSE8581\\Subjects\\Race\\</th>\n",
       "      <th>\\Public Studies\\GSE8581\\Subjects\\Sex\\</th>\n",
       "    </tr>\n",
       "    <tr>\n",
       "      <th>subject.inTrialId</th>\n",
       "      <th></th>\n",
       "      <th></th>\n",
       "      <th></th>\n",
       "      <th></th>\n",
       "      <th></th>\n",
       "      <th></th>\n",
       "      <th></th>\n",
       "      <th></th>\n",
       "      <th></th>\n",
       "      <th></th>\n",
       "    </tr>\n",
       "  </thead>\n",
       "  <tbody>\n",
       "    <tr>\n",
       "      <th>GSE8581GSM210004</th>\n",
       "      <td>None</td>\n",
       "      <td>non-small cell squamous cell carcinoma</td>\n",
       "      <td>2.54</td>\n",
       "      <td>58</td>\n",
       "      <td>63</td>\n",
       "      <td>72</td>\n",
       "      <td>chronic obstructive pulmonary disease</td>\n",
       "      <td>Homo sapiens</td>\n",
       "      <td>Caucasian</td>\n",
       "      <td>male</td>\n",
       "    </tr>\n",
       "    <tr>\n",
       "      <th>GSE8581GSM210005</th>\n",
       "      <td>None</td>\n",
       "      <td>non-small cell adenocarcinoma</td>\n",
       "      <td>1.69</td>\n",
       "      <td>83.66</td>\n",
       "      <td>84</td>\n",
       "      <td>60</td>\n",
       "      <td>control</td>\n",
       "      <td>Homo sapiens</td>\n",
       "      <td>Afro American</td>\n",
       "      <td>female</td>\n",
       "    </tr>\n",
       "    <tr>\n",
       "      <th>GSE8581GSM210006</th>\n",
       "      <td>None</td>\n",
       "      <td>non-small cell adenocarcinoma</td>\n",
       "      <td>1.41</td>\n",
       "      <td>51</td>\n",
       "      <td>65</td>\n",
       "      <td>66</td>\n",
       "      <td>chronic obstructive pulmonary disease</td>\n",
       "      <td>Homo sapiens</td>\n",
       "      <td>Afro American</td>\n",
       "      <td>female</td>\n",
       "    </tr>\n",
       "  </tbody>\n",
       "</table>\n",
       "</div>"
      ],
      "text/plain": [
       "label             \\Public Studies\\GSE8581\\Biomarker Data\\GPL570\\  \\\n",
       "subject.inTrialId                                                  \n",
       "GSE8581GSM210004                                            None   \n",
       "GSE8581GSM210005                                            None   \n",
       "GSE8581GSM210006                                            None   \n",
       "\n",
       "label             \\Public Studies\\GSE8581\\Endpoints\\Diagnosis\\  \\\n",
       "subject.inTrialId                                                \n",
       "GSE8581GSM210004        non-small cell squamous cell carcinoma   \n",
       "GSE8581GSM210005                 non-small cell adenocarcinoma   \n",
       "GSE8581GSM210006                 non-small cell adenocarcinoma   \n",
       "\n",
       "label             \\Public Studies\\GSE8581\\Endpoints\\FEV1\\  \\\n",
       "subject.inTrialId                                           \n",
       "GSE8581GSM210004                                     2.54   \n",
       "GSE8581GSM210005                                     1.69   \n",
       "GSE8581GSM210006                                     1.41   \n",
       "\n",
       "label             \\Public Studies\\GSE8581\\Endpoints\\Forced Expiratory Volume Ratio\\  \\\n",
       "subject.inTrialId                                                                     \n",
       "GSE8581GSM210004                                                  58                  \n",
       "GSE8581GSM210005                                               83.66                  \n",
       "GSE8581GSM210006                                                  51                  \n",
       "\n",
       "label             \\Public Studies\\GSE8581\\Subjects\\Age\\  \\\n",
       "subject.inTrialId                                         \n",
       "GSE8581GSM210004                                     63   \n",
       "GSE8581GSM210005                                     84   \n",
       "GSE8581GSM210006                                     65   \n",
       "\n",
       "label             \\Public Studies\\GSE8581\\Subjects\\Height (inch)\\  \\\n",
       "subject.inTrialId                                                   \n",
       "GSE8581GSM210004                                               72   \n",
       "GSE8581GSM210005                                               60   \n",
       "GSE8581GSM210006                                               66   \n",
       "\n",
       "label             \\Public Studies\\GSE8581\\Subjects\\Lung Disease\\  \\\n",
       "subject.inTrialId                                                  \n",
       "GSE8581GSM210004           chronic obstructive pulmonary disease   \n",
       "GSE8581GSM210005                                         control   \n",
       "GSE8581GSM210006           chronic obstructive pulmonary disease   \n",
       "\n",
       "label             \\Public Studies\\GSE8581\\Subjects\\Organism\\  \\\n",
       "subject.inTrialId                                              \n",
       "GSE8581GSM210004                                Homo sapiens   \n",
       "GSE8581GSM210005                                Homo sapiens   \n",
       "GSE8581GSM210006                                Homo sapiens   \n",
       "\n",
       "label             \\Public Studies\\GSE8581\\Subjects\\Race\\  \\\n",
       "subject.inTrialId                                          \n",
       "GSE8581GSM210004                               Caucasian   \n",
       "GSE8581GSM210005                           Afro American   \n",
       "GSE8581GSM210006                           Afro American   \n",
       "\n",
       "label             \\Public Studies\\GSE8581\\Subjects\\Sex\\  \n",
       "subject.inTrialId                                        \n",
       "GSE8581GSM210004                                   male  \n",
       "GSE8581GSM210005                                 female  \n",
       "GSE8581GSM210006                                 female  "
      ]
     },
     "execution_count": 10,
     "metadata": {},
     "output_type": "execute_result"
    }
   ],
   "source": [
    "obs_df2 = obs_df1.pivot(index = 'subject.inTrialId', columns = 'label', values = 'value')\n",
    "obs_df2[0:3]"
   ]
  },
  {
   "cell_type": "code",
   "execution_count": 11,
   "metadata": {
    "collapsed": false
   },
   "outputs": [
    {
     "data": {
      "text/plain": [
       "label\n",
       "\\Public Studies\\GSE8581\\Biomarker Data\\GPL570\\                       object\n",
       "\\Public Studies\\GSE8581\\Endpoints\\Diagnosis\\                         object\n",
       "\\Public Studies\\GSE8581\\Endpoints\\FEV1\\                              object\n",
       "\\Public Studies\\GSE8581\\Endpoints\\Forced Expiratory Volume Ratio\\    object\n",
       "\\Public Studies\\GSE8581\\Subjects\\Age\\                                object\n",
       "\\Public Studies\\GSE8581\\Subjects\\Height (inch)\\                      object\n",
       "\\Public Studies\\GSE8581\\Subjects\\Lung Disease\\                       object\n",
       "\\Public Studies\\GSE8581\\Subjects\\Organism\\                           object\n",
       "\\Public Studies\\GSE8581\\Subjects\\Race\\                               object\n",
       "\\Public Studies\\GSE8581\\Subjects\\Sex\\                                object\n",
       "dtype: object"
      ]
     },
     "execution_count": 11,
     "metadata": {},
     "output_type": "execute_result"
    }
   ],
   "source": [
    "obs_df2.dtypes"
   ]
  },
  {
   "cell_type": "code",
   "execution_count": 12,
   "metadata": {
    "collapsed": false
   },
   "outputs": [
    {
     "data": {
      "text/plain": [
       "label\n",
       "\\Public Studies\\GSE8581\\Biomarker Data\\GPL570\\                        object\n",
       "\\Public Studies\\GSE8581\\Endpoints\\Diagnosis\\                          object\n",
       "\\Public Studies\\GSE8581\\Endpoints\\FEV1\\                              float64\n",
       "\\Public Studies\\GSE8581\\Endpoints\\Forced Expiratory Volume Ratio\\    float64\n",
       "\\Public Studies\\GSE8581\\Subjects\\Age\\                                float64\n",
       "\\Public Studies\\GSE8581\\Subjects\\Height (inch)\\                      float64\n",
       "\\Public Studies\\GSE8581\\Subjects\\Lung Disease\\                        object\n",
       "\\Public Studies\\GSE8581\\Subjects\\Organism\\                            object\n",
       "\\Public Studies\\GSE8581\\Subjects\\Race\\                                object\n",
       "\\Public Studies\\GSE8581\\Subjects\\Sex\\                                 object\n",
       "dtype: object"
      ]
     },
     "execution_count": 12,
     "metadata": {},
     "output_type": "execute_result"
    }
   ],
   "source": [
    "#to make pandas guess data types of the columns\n",
    "obs_df3 = obs_df2.convert_objects()\n",
    "obs_df3.dtypes"
   ]
  },
  {
   "cell_type": "code",
   "execution_count": 13,
   "metadata": {
    "collapsed": false
   },
   "outputs": [
    {
     "data": {
      "text/html": [
       "<div>\n",
       "<table border=\"1\" class=\"dataframe\">\n",
       "  <thead>\n",
       "    <tr style=\"text-align: right;\">\n",
       "      <th>label</th>\n",
       "      <th>Biomarker Data\\GPL570</th>\n",
       "      <th>Endpoints\\Diagnosis</th>\n",
       "      <th>Endpoints\\FEV1</th>\n",
       "      <th>Endpoints\\Forced Expiratory Volume Ratio</th>\n",
       "      <th>Subjects\\Age</th>\n",
       "      <th>Subjects\\Height (inch)</th>\n",
       "      <th>Subjects\\Lung Disease</th>\n",
       "      <th>Subjects\\Organism</th>\n",
       "      <th>Subjects\\Race</th>\n",
       "      <th>Subjects\\Sex</th>\n",
       "    </tr>\n",
       "    <tr>\n",
       "      <th>subject.inTrialId</th>\n",
       "      <th></th>\n",
       "      <th></th>\n",
       "      <th></th>\n",
       "      <th></th>\n",
       "      <th></th>\n",
       "      <th></th>\n",
       "      <th></th>\n",
       "      <th></th>\n",
       "      <th></th>\n",
       "      <th></th>\n",
       "    </tr>\n",
       "  </thead>\n",
       "  <tbody>\n",
       "    <tr>\n",
       "      <th>GSE8581GSM210004</th>\n",
       "      <td>None</td>\n",
       "      <td>non-small cell squamous cell carcinoma</td>\n",
       "      <td>2.54</td>\n",
       "      <td>58.00</td>\n",
       "      <td>63</td>\n",
       "      <td>72</td>\n",
       "      <td>chronic obstructive pulmonary disease</td>\n",
       "      <td>Homo sapiens</td>\n",
       "      <td>Caucasian</td>\n",
       "      <td>male</td>\n",
       "    </tr>\n",
       "    <tr>\n",
       "      <th>GSE8581GSM210005</th>\n",
       "      <td>None</td>\n",
       "      <td>non-small cell adenocarcinoma</td>\n",
       "      <td>1.69</td>\n",
       "      <td>83.66</td>\n",
       "      <td>84</td>\n",
       "      <td>60</td>\n",
       "      <td>control</td>\n",
       "      <td>Homo sapiens</td>\n",
       "      <td>Afro American</td>\n",
       "      <td>female</td>\n",
       "    </tr>\n",
       "    <tr>\n",
       "      <th>GSE8581GSM210006</th>\n",
       "      <td>None</td>\n",
       "      <td>non-small cell adenocarcinoma</td>\n",
       "      <td>1.41</td>\n",
       "      <td>51.00</td>\n",
       "      <td>65</td>\n",
       "      <td>66</td>\n",
       "      <td>chronic obstructive pulmonary disease</td>\n",
       "      <td>Homo sapiens</td>\n",
       "      <td>Afro American</td>\n",
       "      <td>female</td>\n",
       "    </tr>\n",
       "  </tbody>\n",
       "</table>\n",
       "</div>"
      ],
      "text/plain": [
       "label             Biomarker Data\\GPL570  \\\n",
       "subject.inTrialId                         \n",
       "GSE8581GSM210004                   None   \n",
       "GSE8581GSM210005                   None   \n",
       "GSE8581GSM210006                   None   \n",
       "\n",
       "label                                 Endpoints\\Diagnosis  Endpoints\\FEV1  \\\n",
       "subject.inTrialId                                                           \n",
       "GSE8581GSM210004   non-small cell squamous cell carcinoma            2.54   \n",
       "GSE8581GSM210005            non-small cell adenocarcinoma            1.69   \n",
       "GSE8581GSM210006            non-small cell adenocarcinoma            1.41   \n",
       "\n",
       "label              Endpoints\\Forced Expiratory Volume Ratio  Subjects\\Age  \\\n",
       "subject.inTrialId                                                           \n",
       "GSE8581GSM210004                                      58.00            63   \n",
       "GSE8581GSM210005                                      83.66            84   \n",
       "GSE8581GSM210006                                      51.00            65   \n",
       "\n",
       "label              Subjects\\Height (inch)  \\\n",
       "subject.inTrialId                           \n",
       "GSE8581GSM210004                       72   \n",
       "GSE8581GSM210005                       60   \n",
       "GSE8581GSM210006                       66   \n",
       "\n",
       "label                              Subjects\\Lung Disease Subjects\\Organism  \\\n",
       "subject.inTrialId                                                            \n",
       "GSE8581GSM210004   chronic obstructive pulmonary disease      Homo sapiens   \n",
       "GSE8581GSM210005                                 control      Homo sapiens   \n",
       "GSE8581GSM210006   chronic obstructive pulmonary disease      Homo sapiens   \n",
       "\n",
       "label              Subjects\\Race Subjects\\Sex  \n",
       "subject.inTrialId                              \n",
       "GSE8581GSM210004       Caucasian         male  \n",
       "GSE8581GSM210005   Afro American       female  \n",
       "GSE8581GSM210006   Afro American       female  "
      ]
     },
     "execution_count": 13,
     "metadata": {},
     "output_type": "execute_result"
    }
   ],
   "source": [
    "obs_df4 = obs_df3.rename(\n",
    "    columns = lambda c: c.replace('\\Public Studies\\GSE8581\\\\', '')[:-1],\n",
    "    inplace = False)\n",
    "obs_df4[0:3]"
   ]
  },
  {
   "cell_type": "markdown",
   "metadata": {},
   "source": [
    "### Change the shape of HD data"
   ]
  },
  {
   "cell_type": "code",
   "execution_count": 14,
   "metadata": {
    "collapsed": false,
    "scrolled": false
   },
   "outputs": [
    {
     "data": {
      "text/html": [
       "<div>\n",
       "<table border=\"1\" class=\"dataframe\">\n",
       "  <thead>\n",
       "    <tr style=\"text-align: right;\">\n",
       "      <th></th>\n",
       "      <th>201746_at</th>\n",
       "      <th>204092_s_at</th>\n",
       "      <th>208079_s_at</th>\n",
       "      <th>208080_at</th>\n",
       "      <th>211300_s_at</th>\n",
       "      <th>patientId</th>\n",
       "    </tr>\n",
       "  </thead>\n",
       "  <tbody>\n",
       "    <tr>\n",
       "      <th>45741</th>\n",
       "      <td>45.25530</td>\n",
       "      <td>61.428400</td>\n",
       "      <td>53.77660</td>\n",
       "      <td>1.08084</td>\n",
       "      <td>31.6424</td>\n",
       "      <td>GSE8581GSM213034</td>\n",
       "    </tr>\n",
       "    <tr>\n",
       "      <th>45742</th>\n",
       "      <td>61.31550</td>\n",
       "      <td>42.516700</td>\n",
       "      <td>34.59850</td>\n",
       "      <td>2.42510</td>\n",
       "      <td>13.8971</td>\n",
       "      <td>GSE8581GSM212811</td>\n",
       "    </tr>\n",
       "    <tr>\n",
       "      <th>45743</th>\n",
       "      <td>56.84860</td>\n",
       "      <td>29.488600</td>\n",
       "      <td>26.76440</td>\n",
       "      <td>2.79179</td>\n",
       "      <td>17.3414</td>\n",
       "      <td>GSE8581GSM213036</td>\n",
       "    </tr>\n",
       "    <tr>\n",
       "      <th>45744</th>\n",
       "      <td>88.71880</td>\n",
       "      <td>44.719800</td>\n",
       "      <td>39.41060</td>\n",
       "      <td>1.94118</td>\n",
       "      <td>24.0898</td>\n",
       "      <td>GSE8581GSM212075</td>\n",
       "    </tr>\n",
       "    <tr>\n",
       "      <th>45745</th>\n",
       "      <td>57.22760</td>\n",
       "      <td>25.578800</td>\n",
       "      <td>33.30950</td>\n",
       "      <td>5.15415</td>\n",
       "      <td>33.0352</td>\n",
       "      <td>GSE8581GSM211008</td>\n",
       "    </tr>\n",
       "    <tr>\n",
       "      <th>45746</th>\n",
       "      <td>77.81250</td>\n",
       "      <td>25.868200</td>\n",
       "      <td>27.15200</td>\n",
       "      <td>9.03928</td>\n",
       "      <td>50.2931</td>\n",
       "      <td>GSE8581GSM210090</td>\n",
       "    </tr>\n",
       "    <tr>\n",
       "      <th>45747</th>\n",
       "      <td>32.36190</td>\n",
       "      <td>24.203600</td>\n",
       "      <td>18.65140</td>\n",
       "      <td>4.20431</td>\n",
       "      <td>19.9424</td>\n",
       "      <td>GSE8581GSM212855</td>\n",
       "    </tr>\n",
       "    <tr>\n",
       "      <th>45748</th>\n",
       "      <td>105.82100</td>\n",
       "      <td>35.938300</td>\n",
       "      <td>47.17160</td>\n",
       "      <td>2.29847</td>\n",
       "      <td>67.8302</td>\n",
       "      <td>GSE8581GSM212070</td>\n",
       "    </tr>\n",
       "    <tr>\n",
       "      <th>45749</th>\n",
       "      <td>6.98541</td>\n",
       "      <td>0.362184</td>\n",
       "      <td>2.11288</td>\n",
       "      <td>0.97270</td>\n",
       "      <td>4.2149</td>\n",
       "      <td>GSE8581GSM212810</td>\n",
       "    </tr>\n",
       "    <tr>\n",
       "      <th>45750</th>\n",
       "      <td>82.68780</td>\n",
       "      <td>37.258200</td>\n",
       "      <td>28.35180</td>\n",
       "      <td>3.19601</td>\n",
       "      <td>34.2873</td>\n",
       "      <td>GSE8581GSM210193</td>\n",
       "    </tr>\n",
       "  </tbody>\n",
       "</table>\n",
       "</div>"
      ],
      "text/plain": [
       "       201746_at  204092_s_at  208079_s_at  208080_at  211300_s_at  \\\n",
       "45741   45.25530    61.428400     53.77660    1.08084      31.6424   \n",
       "45742   61.31550    42.516700     34.59850    2.42510      13.8971   \n",
       "45743   56.84860    29.488600     26.76440    2.79179      17.3414   \n",
       "45744   88.71880    44.719800     39.41060    1.94118      24.0898   \n",
       "45745   57.22760    25.578800     33.30950    5.15415      33.0352   \n",
       "45746   77.81250    25.868200     27.15200    9.03928      50.2931   \n",
       "45747   32.36190    24.203600     18.65140    4.20431      19.9424   \n",
       "45748  105.82100    35.938300     47.17160    2.29847      67.8302   \n",
       "45749    6.98541     0.362184      2.11288    0.97270       4.2149   \n",
       "45750   82.68780    37.258200     28.35180    3.19601      34.2873   \n",
       "\n",
       "              patientId  \n",
       "45741  GSE8581GSM213034  \n",
       "45742  GSE8581GSM212811  \n",
       "45743  GSE8581GSM213036  \n",
       "45744  GSE8581GSM212075  \n",
       "45745  GSE8581GSM211008  \n",
       "45746  GSE8581GSM210090  \n",
       "45747  GSE8581GSM212855  \n",
       "45748  GSE8581GSM212070  \n",
       "45749  GSE8581GSM212810  \n",
       "45750  GSE8581GSM210193  "
      ]
     },
     "execution_count": 14,
     "metadata": {},
     "output_type": "execute_result"
    }
   ],
   "source": [
    "from pandas import DataFrame\n",
    "hdDataDic['patientId'] = [assay.patientId for assay in hdHeader.assay]\n",
    "assayIds = [assay.assayId for assay in hdHeader.assay]\n",
    "hd_df = DataFrame(data=hdDataDic, index = assayIds)\n",
    "hd_df[0:10]"
   ]
  },
  {
   "cell_type": "markdown",
   "metadata": {},
   "source": [
    "### Select subgroups"
   ]
  },
  {
   "cell_type": "code",
   "execution_count": 15,
   "metadata": {
    "collapsed": false,
    "scrolled": false
   },
   "outputs": [
    {
     "data": {
      "text/plain": [
       "subject.inTrialId\n",
       "GSE8581GSM210004     True\n",
       "GSE8581GSM210005    False\n",
       "GSE8581GSM210006    False\n",
       "GSE8581GSM210007    False\n",
       "GSE8581GSM210008    False\n",
       "GSE8581GSM210009    False\n",
       "GSE8581GSM210010    False\n",
       "GSE8581GSM210011     True\n",
       "GSE8581GSM210012     True\n",
       "GSE8581GSM210014    False\n",
       "dtype: bool"
      ]
     },
     "execution_count": 15,
     "metadata": {},
     "output_type": "execute_result"
    }
   ],
   "source": [
    "males_abv_50 = (obs_df4['Subjects\\Age'] > 50) & (obs_df4['Subjects\\Sex'] == 'male')\n",
    "males_abv_50[0:10]"
   ]
  },
  {
   "cell_type": "code",
   "execution_count": 16,
   "metadata": {
    "collapsed": false
   },
   "outputs": [
    {
     "data": {
      "text/html": [
       "<div>\n",
       "<table border=\"1\" class=\"dataframe\">\n",
       "  <thead>\n",
       "    <tr style=\"text-align: right;\">\n",
       "      <th>label</th>\n",
       "      <th>Biomarker Data\\GPL570</th>\n",
       "      <th>Endpoints\\Diagnosis</th>\n",
       "      <th>Endpoints\\FEV1</th>\n",
       "      <th>Endpoints\\Forced Expiratory Volume Ratio</th>\n",
       "      <th>Subjects\\Age</th>\n",
       "      <th>Subjects\\Height (inch)</th>\n",
       "      <th>Subjects\\Lung Disease</th>\n",
       "      <th>Subjects\\Organism</th>\n",
       "      <th>Subjects\\Race</th>\n",
       "      <th>Subjects\\Sex</th>\n",
       "    </tr>\n",
       "    <tr>\n",
       "      <th>subject.inTrialId</th>\n",
       "      <th></th>\n",
       "      <th></th>\n",
       "      <th></th>\n",
       "      <th></th>\n",
       "      <th></th>\n",
       "      <th></th>\n",
       "      <th></th>\n",
       "      <th></th>\n",
       "      <th></th>\n",
       "      <th></th>\n",
       "    </tr>\n",
       "  </thead>\n",
       "  <tbody>\n",
       "    <tr>\n",
       "      <th>GSE8581GSM210004</th>\n",
       "      <td>None</td>\n",
       "      <td>non-small cell squamous cell carcinoma</td>\n",
       "      <td>2.54</td>\n",
       "      <td>58.00</td>\n",
       "      <td>63</td>\n",
       "      <td>72</td>\n",
       "      <td>chronic obstructive pulmonary disease</td>\n",
       "      <td>Homo sapiens</td>\n",
       "      <td>Caucasian</td>\n",
       "      <td>male</td>\n",
       "    </tr>\n",
       "    <tr>\n",
       "      <th>GSE8581GSM210011</th>\n",
       "      <td>E</td>\n",
       "      <td>non-small cell squamous cell carcinoma</td>\n",
       "      <td>1.87</td>\n",
       "      <td>56.00</td>\n",
       "      <td>56</td>\n",
       "      <td>72</td>\n",
       "      <td>chronic obstructive pulmonary disease</td>\n",
       "      <td>Homo sapiens</td>\n",
       "      <td>Caucasian</td>\n",
       "      <td>male</td>\n",
       "    </tr>\n",
       "    <tr>\n",
       "      <th>GSE8581GSM210012</th>\n",
       "      <td>E</td>\n",
       "      <td>non-small cell adenocarcinoma</td>\n",
       "      <td>2.76</td>\n",
       "      <td>70.58</td>\n",
       "      <td>61</td>\n",
       "      <td>69</td>\n",
       "      <td>not specified</td>\n",
       "      <td>Homo sapiens</td>\n",
       "      <td>Caucasian</td>\n",
       "      <td>male</td>\n",
       "    </tr>\n",
       "  </tbody>\n",
       "</table>\n",
       "</div>"
      ],
      "text/plain": [
       "label             Biomarker Data\\GPL570  \\\n",
       "subject.inTrialId                         \n",
       "GSE8581GSM210004                   None   \n",
       "GSE8581GSM210011                      E   \n",
       "GSE8581GSM210012                      E   \n",
       "\n",
       "label                                 Endpoints\\Diagnosis  Endpoints\\FEV1  \\\n",
       "subject.inTrialId                                                           \n",
       "GSE8581GSM210004   non-small cell squamous cell carcinoma            2.54   \n",
       "GSE8581GSM210011   non-small cell squamous cell carcinoma            1.87   \n",
       "GSE8581GSM210012            non-small cell adenocarcinoma            2.76   \n",
       "\n",
       "label              Endpoints\\Forced Expiratory Volume Ratio  Subjects\\Age  \\\n",
       "subject.inTrialId                                                           \n",
       "GSE8581GSM210004                                      58.00            63   \n",
       "GSE8581GSM210011                                      56.00            56   \n",
       "GSE8581GSM210012                                      70.58            61   \n",
       "\n",
       "label              Subjects\\Height (inch)  \\\n",
       "subject.inTrialId                           \n",
       "GSE8581GSM210004                       72   \n",
       "GSE8581GSM210011                       72   \n",
       "GSE8581GSM210012                       69   \n",
       "\n",
       "label                              Subjects\\Lung Disease Subjects\\Organism  \\\n",
       "subject.inTrialId                                                            \n",
       "GSE8581GSM210004   chronic obstructive pulmonary disease      Homo sapiens   \n",
       "GSE8581GSM210011   chronic obstructive pulmonary disease      Homo sapiens   \n",
       "GSE8581GSM210012                           not specified      Homo sapiens   \n",
       "\n",
       "label             Subjects\\Race Subjects\\Sex  \n",
       "subject.inTrialId                             \n",
       "GSE8581GSM210004      Caucasian         male  \n",
       "GSE8581GSM210011      Caucasian         male  \n",
       "GSE8581GSM210012      Caucasian         male  "
      ]
     },
     "execution_count": 16,
     "metadata": {},
     "output_type": "execute_result"
    }
   ],
   "source": [
    "obs_df4[males_abv_50][0:3]"
   ]
  },
  {
   "cell_type": "markdown",
   "metadata": {},
   "source": [
    "### Join data"
   ]
  },
  {
   "cell_type": "markdown",
   "metadata": {},
   "source": [
    "See pandas [documentation on how to merge](http://pandas.pydata.org/pandas-docs/stable/merging.html)"
   ]
  },
  {
   "cell_type": "code",
   "execution_count": 17,
   "metadata": {
    "collapsed": false
   },
   "outputs": [
    {
     "data": {
      "text/html": [
       "<div>\n",
       "<table border=\"1\" class=\"dataframe\">\n",
       "  <thead>\n",
       "    <tr style=\"text-align: right;\">\n",
       "      <th></th>\n",
       "      <th>201746_at</th>\n",
       "      <th>204092_s_at</th>\n",
       "      <th>208079_s_at</th>\n",
       "      <th>208080_at</th>\n",
       "      <th>211300_s_at</th>\n",
       "      <th>patientId</th>\n",
       "      <th>Biomarker Data\\GPL570</th>\n",
       "      <th>Endpoints\\Diagnosis</th>\n",
       "      <th>Endpoints\\FEV1</th>\n",
       "      <th>Endpoints\\Forced Expiratory Volume Ratio</th>\n",
       "      <th>Subjects\\Age</th>\n",
       "      <th>Subjects\\Height (inch)</th>\n",
       "      <th>Subjects\\Lung Disease</th>\n",
       "      <th>Subjects\\Organism</th>\n",
       "      <th>Subjects\\Race</th>\n",
       "      <th>Subjects\\Sex</th>\n",
       "    </tr>\n",
       "  </thead>\n",
       "  <tbody>\n",
       "    <tr>\n",
       "      <th>45741</th>\n",
       "      <td>45.2553</td>\n",
       "      <td>61.4284</td>\n",
       "      <td>53.7766</td>\n",
       "      <td>1.08084</td>\n",
       "      <td>31.6424</td>\n",
       "      <td>GSE8581GSM213034</td>\n",
       "      <td>E</td>\n",
       "      <td>non-small cell adenocarcinoma</td>\n",
       "      <td>2.56</td>\n",
       "      <td>61</td>\n",
       "      <td>70</td>\n",
       "      <td>69</td>\n",
       "      <td>not specified</td>\n",
       "      <td>Homo sapiens</td>\n",
       "      <td>Caucasian</td>\n",
       "      <td>male</td>\n",
       "    </tr>\n",
       "    <tr>\n",
       "      <th>45742</th>\n",
       "      <td>61.3155</td>\n",
       "      <td>42.5167</td>\n",
       "      <td>34.5985</td>\n",
       "      <td>2.42510</td>\n",
       "      <td>13.8971</td>\n",
       "      <td>GSE8581GSM212811</td>\n",
       "      <td>E</td>\n",
       "      <td>non-small cell squamous cell carcinoma</td>\n",
       "      <td>1.37</td>\n",
       "      <td>82</td>\n",
       "      <td>77</td>\n",
       "      <td>58</td>\n",
       "      <td>control</td>\n",
       "      <td>Homo sapiens</td>\n",
       "      <td>Caucasian</td>\n",
       "      <td>female</td>\n",
       "    </tr>\n",
       "    <tr>\n",
       "      <th>45743</th>\n",
       "      <td>56.8486</td>\n",
       "      <td>29.4886</td>\n",
       "      <td>26.7644</td>\n",
       "      <td>2.79179</td>\n",
       "      <td>17.3414</td>\n",
       "      <td>GSE8581GSM213036</td>\n",
       "      <td>E</td>\n",
       "      <td>non-small cell squamous cell carcinoma</td>\n",
       "      <td>2.68</td>\n",
       "      <td>71</td>\n",
       "      <td>59</td>\n",
       "      <td>69</td>\n",
       "      <td>control</td>\n",
       "      <td>Homo sapiens</td>\n",
       "      <td>Caucasian</td>\n",
       "      <td>female</td>\n",
       "    </tr>\n",
       "  </tbody>\n",
       "</table>\n",
       "</div>"
      ],
      "text/plain": [
       "       201746_at  204092_s_at  208079_s_at  208080_at  211300_s_at  \\\n",
       "45741    45.2553      61.4284      53.7766    1.08084      31.6424   \n",
       "45742    61.3155      42.5167      34.5985    2.42510      13.8971   \n",
       "45743    56.8486      29.4886      26.7644    2.79179      17.3414   \n",
       "\n",
       "              patientId Biomarker Data\\GPL570  \\\n",
       "45741  GSE8581GSM213034                     E   \n",
       "45742  GSE8581GSM212811                     E   \n",
       "45743  GSE8581GSM213036                     E   \n",
       "\n",
       "                          Endpoints\\Diagnosis  Endpoints\\FEV1  \\\n",
       "45741           non-small cell adenocarcinoma            2.56   \n",
       "45742  non-small cell squamous cell carcinoma            1.37   \n",
       "45743  non-small cell squamous cell carcinoma            2.68   \n",
       "\n",
       "       Endpoints\\Forced Expiratory Volume Ratio  Subjects\\Age  \\\n",
       "45741                                        61            70   \n",
       "45742                                        82            77   \n",
       "45743                                        71            59   \n",
       "\n",
       "       Subjects\\Height (inch) Subjects\\Lung Disease Subjects\\Organism  \\\n",
       "45741                      69         not specified      Homo sapiens   \n",
       "45742                      58               control      Homo sapiens   \n",
       "45743                      69               control      Homo sapiens   \n",
       "\n",
       "      Subjects\\Race Subjects\\Sex  \n",
       "45741     Caucasian         male  \n",
       "45742     Caucasian       female  \n",
       "45743     Caucasian       female  "
      ]
     },
     "execution_count": 17,
     "metadata": {},
     "output_type": "execute_result"
    }
   ],
   "source": [
    "hd_df.join(obs_df4, on='patientId')[0:3]"
   ]
  },
  {
   "cell_type": "markdown",
   "metadata": {},
   "source": [
    "## Interaction with R"
   ]
  },
  {
   "cell_type": "markdown",
   "metadata": {},
   "source": [
    "The Notebook gives possibility to interact with R environunment easily. You need just to mark a cell with so called [magic notation](https://ipython.org/ipython-doc/2/config/extensions/rmagic.html)."
   ]
  },
  {
   "cell_type": "code",
   "execution_count": 19,
   "metadata": {
    "collapsed": false
   },
   "outputs": [],
   "source": [
    "%load_ext rpy2.ipython"
   ]
  },
  {
   "cell_type": "code",
   "execution_count": 20,
   "metadata": {
    "collapsed": false,
    "scrolled": true
   },
   "outputs": [
    {
     "data": {
      "text/plain": [
       "'data.frame':\t58 obs. of  10 variables:\n",
       " $ Biomarker.Data.GPL570                   : Factor w/ 2 levels \"E\",\"None\": 2 2 2 1 1 1 1 1 1 1 ...\n",
       " $ Endpoints.Diagnosis                     : Factor w/ 14 levels \"carcinoid\",\"emphysema\",..: 12 11 11 11 11 12 11 12 11 11 ...\n",
       " $ Endpoints.FEV1                          : num [1:58(1d)] 2.54 1.69 1.41 2.51 1.64 2.72 1.45 1.87 2.76 1.98 ...\n",
       " $ Endpoints.Forced.Expiratory.Volume.Ratio: num [1:58(1d)] 58 83.7 51 81 57 ...\n",
       " $ Subjects.Age                            : num [1:58(1d)] 63 84 65 46 53 53 77 56 61 71 ...\n",
       " $ Subjects.Height..inch.                  : num [1:58(1d)] 72 60 66 66 65 64 63 72 69 63 ...\n",
       " $ Subjects.Lung.Disease                   : Factor w/ 3 levels \"chronic obstructive pulmonary disease\",..: 1 2 1 3 1 2 3 1 3 2 ...\n",
       " $ Subjects.Organism                       : Factor w/ 1 level \"Homo sapiens\": 1 1 1 1 1 1 1 1 1 1 ...\n",
       " $ Subjects.Race                           : Factor w/ 2 levels \"Afro American\",..: 2 1 1 2 2 2 2 2 2 2 ...\n",
       " $ Subjects.Sex                            : Factor w/ 2 levels \"female\",\"male\": 2 1 1 2 1 1 1 2 2 1 ...\n"
      ]
     },
     "metadata": {},
     "output_type": "display_data"
    }
   ],
   "source": [
    "%%R -i obs_df4\n",
    "str(obs_df4)"
   ]
  },
  {
   "cell_type": "code",
   "execution_count": 21,
   "metadata": {
    "collapsed": false
   },
   "outputs": [
    {
     "data": {
      "image/png": "[encoded data removed]"
     },
     "metadata": {},
     "output_type": "display_data"
    }
   ],
   "source": [
    "%%R -i obs_df4\n",
    "library(ggplot2)\n",
    "\n",
    "ggplot(obs_df4, aes(x = Subjects.Sex, y = Endpoints.FEV1)) + geom_boxplot()"
   ]
  },
  {
   "cell_type": "code",
   "execution_count": 22,
   "metadata": {
    "collapsed": false
   },
   "outputs": [
    {
     "data": {
      "text/plain": [
       "\n",
       "\tWelch Two Sample t-test\n",
       "\n",
       "data:  obs_df4$Endpoints.FEV1 by obs_df4$Subjects.Sex\n",
       "t = -3.2644, df = 45.884, p-value = 0.002077\n",
       "alternative hypothesis: true difference in means is not equal to 0\n",
       "95 percent confidence interval:\n",
       " -1.1037123 -0.2617163\n",
       "sample estimates:\n",
       "mean in group female   mean in group male \n",
       "            1.703000             2.385714 \n",
       "\n"
      ]
     },
     "metadata": {},
     "output_type": "display_data"
    }
   ],
   "source": [
    "%%R -i obs_df4 -o tmodel\n",
    "\n",
    "tmodel <- t.test(obs_df4$Endpoints.FEV1~obs_df4$Subjects.Sex)\n",
    "tmodel"
   ]
  },
  {
   "cell_type": "code",
   "execution_count": 23,
   "metadata": {
    "collapsed": false
   },
   "outputs": [
    {
     "data": {
      "text/plain": [
       "<FloatVector - Python:0x7f1241a84758 / R:0x5f55dd8>\n",
       "[-1.103712, -0.261716]"
      ]
     },
     "execution_count": 23,
     "metadata": {},
     "output_type": "execute_result"
    }
   ],
   "source": [
    "tmodel[3]"
   ]
  },
  {
   "cell_type": "code",
   "execution_count": 30,
   "metadata": {
    "collapsed": false,
    "scrolled": false
   },
   "outputs": [
    {
     "data": {
      "image/png": "[encoded data removed]"
     },
     "metadata": {},
     "output_type": "display_data"
    }
   ],
   "source": [
    "%%R -i hd_df\n",
    "library(dplyr)\n",
    "\n",
    "pc <- princomp(select(hd_df, -patientId))$loadings[, 1:2]\n",
    "plot(pc[, 1], pc[, 2], pch = 19, xlab = \"Comp. 1\", ylab = \"Comp. 2\", main = \"\", cex = 1.3)"
   ]
  },
  {
   "cell_type": "markdown",
   "metadata": {},
   "source": [
    "## Widgets"
   ]
  },
  {
   "cell_type": "code",
   "execution_count": 31,
   "metadata": {
    "collapsed": false
   },
   "outputs": [
    {
     "data": {
      "text/plain": [
       "10"
      ]
     },
     "metadata": {},
     "output_type": "display_data"
    }
   ],
   "source": [
    "from ipywidgets import interact, interactive, fixed\n",
    "import ipywidgets as widgets\n",
    "\n",
    "def f(x):\n",
    "    return x\n",
    "\n",
    "interact(f, x=widgets.IntSlider(min=-10,max=30,step=1,value=10));"
   ]
  },
  {
   "cell_type": "code",
   "execution_count": 26,
   "metadata": {
    "collapsed": true
   },
   "outputs": [],
   "source": [
    "concepts = api.get_concepts('GSE8581', hal = True)"
   ]
  },
  {
   "cell_type": "code",
   "execution_count": 27,
   "metadata": {
    "collapsed": false
   },
   "outputs": [
    {
     "name": "stdout",
     "output_type": "stream",
     "text": [
      "Forced Expiratory Volume Ratio\n",
      "FEV1\n",
      "Height (inch)\n"
     ]
    }
   ],
   "source": [
    "import ipywidgets as widgets\n",
    "from IPython.display import display\n",
    "\n",
    "d = widgets.Dropdown()\n",
    "d.options = [c['name'] for c in concepts['_embedded']['ontology_terms'] if c['type'] == 'NUMERIC']\n",
    "def f(prop, val):\n",
    "    print val\n",
    "d.on_trait_change(f, 'value')\n",
    "display(d)"
   ]
  }
 ],
 "metadata": {
  "kernelspec": {
   "display_name": "Python 2",
   "language": "python",
   "name": "python2"
  },
  "language_info": {
   "codemirror_mode": {
    "name": "ipython",
    "version": 2
   },
   "file_extension": ".py",
   "mimetype": "text/x-python",
   "name": "python",
   "nbconvert_exporter": "python",
   "pygments_lexer": "ipython2",
   "version": "2.7.10"
  }
 },
 "nbformat": 4,
 "nbformat_minor": 0
}
